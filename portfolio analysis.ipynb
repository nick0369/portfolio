{
 "cells": [
  {
   "cell_type": "code",
   "execution_count": 1,
   "id": "ba9652c2",
   "metadata": {},
   "outputs": [],
   "source": [
    "import pandas as pd\n",
    "import numpy as np\n",
    "import matplotlib.pyplot as plt\n",
    "import seaborn as sns\n",
    "import yfinance as yf\n"
   ]
  },
  {
   "cell_type": "code",
   "execution_count": null,
   "id": "59eaecf9",
   "metadata": {},
   "outputs": [],
   "source": [
    "import yfinance as yf"
   ]
  },
  {
   "cell_type": "code",
   "execution_count": 2,
   "id": "77a24508",
   "metadata": {},
   "outputs": [],
   "source": [
    "portfolio = ['RELIANCE.NS', 'HDFCBANK.NS', 'TCS.NS', 'HINDUNILVR.NS']\n"
   ]
  },
  {
   "cell_type": "code",
   "execution_count": null,
   "id": "94988076",
   "metadata": {},
   "outputs": [],
   "source": [
    "start_date = '2016-01-01'\n",
    "end_date = '2021-05-12'\n",
    "\n",
    "data = yf.download(portfolio, start=start_date, end=end_date)['Adj Close']\n"
   ]
  },
  {
   "cell_type": "code",
   "execution_count": null,
   "id": "2740b235",
   "metadata": {},
   "outputs": [],
   "source": [
    "returns = data.pct_change()\n"
   ]
  },
  {
   "cell_type": "code",
   "execution_count": null,
   "id": "0acfa527",
   "metadata": {},
   "outputs": [],
   "source": [
    "weights = np.array([0.25, 0.25, 0.25, 0.25])\n",
    "portfolio_returns = returns.dot(weights)\n"
   ]
  },
  {
   "cell_type": "code",
   "execution_count": null,
   "id": "12ed1414",
   "metadata": {},
   "outputs": [],
   "source": [
    "mean_return = portfolio_returns.mean()\n",
    "std_dev = portfolio_returns.std()\n",
    "corr_matrix = returns.corr()\n"
   ]
  },
  {
   "cell_type": "code",
   "execution_count": null,
   "id": "a2fc0725",
   "metadata": {},
   "outputs": [],
   "source": [
    "plt.figure(figsize=(12,6))\n",
    "plt.plot(portfolio_returns)\n",
    "plt.title('Portfolio Returns')\n",
    "plt.xlabel('Date')\n",
    "plt.ylabel('Returns')\n",
    "plt.show()\n"
   ]
  },
  {
   "cell_type": "code",
   "execution_count": null,
   "id": "467ec918",
   "metadata": {},
   "outputs": [],
   "source": [
    "sns.heatmap(corr_matrix, annot=True, cmap='coolwarm')\n",
    "plt.title('Correlation Matrix')\n",
    "plt.show()\n"
   ]
  },
  {
   "cell_type": "code",
   "execution_count": null,
   "id": "05192541",
   "metadata": {},
   "outputs": [],
   "source": [
    "import yfinance as yf\n",
    "import pandas as pd\n",
    "import numpy as np\n",
    "\n",
    "# Define the list of tickers\n",
    "tickers = [\"TCS.NS\", \"RELIANCE.NS\", \"HDFCBANK.NS\", \"INFY.NS\", \"HDFC.NS\"]\n",
    "\n",
    "# Get the stock data\n",
    "data = yf.download(tickers, start=\"2016-01-01\", end=\"2022-05-12\")[\"Adj Close\"]\n",
    "\n",
    "# Calculate the daily returns\n",
    "returns = data.pct_change().dropna()\n",
    "\n",
    "# Calculate the expected returns and covariance matrix\n",
    "mu = returns.mean()\n",
    "sigma = returns.cov()\n"
   ]
  },
  {
   "cell_type": "code",
   "execution_count": null,
   "id": "f7597dc5",
   "metadata": {},
   "outputs": [],
   "source": [
    "import random\n",
    "\n",
    "# Set the number of simulations\n",
    "num_portfolios = 5000\n",
    "\n",
    "# Generate random portfolio weights\n",
    "weights_list = []\n",
    "for i in range(num_portfolios):\n",
    "    weights = np.array([random.random() for i in range(len(tickers))])\n",
    "    weights /= np.sum(weights)\n",
    "    weights_list.append(weights)\n",
    "\n",
    "# Calculate the portfolio returns and risks\n",
    "portfolio_returns = []\n",
    "portfolio_risks = []\n",
    "for weights in weights_list:\n",
    "    portfolio_return = np.dot(mu, weights)\n",
    "    portfolio_returns.append(portfolio_return)\n",
    "    portfolio_risk = np.sqrt(np.dot(weights.T, np.dot(sigma, weights)))\n",
    "    portfolio_risks.append(portfolio_risk)\n"
   ]
  },
  {
   "cell_type": "code",
   "execution_count": null,
   "id": "c5d1b02e",
   "metadata": {},
   "outputs": [],
   "source": [
    "from scipy.optimize import minimize\n",
    "\n",
    "# Define the objective function to maximize the Sharpe ratio\n",
    "def objective_function(weights):\n",
    "    portfolio_return = np.dot(mu, weights)\n",
    "    portfolio_risk = np.sqrt(np.dot(weights.T, np.dot(sigma, weights)))\n",
    "    sharpe_ratio = portfolio_return / portfolio_risk\n",
    "    return -sharpe_ratio\n",
    "\n",
    "# Define the constraints for the optimization\n",
    "constraints = [{\"type\": \"eq\", \"fun\": lambda x: np.sum(x) - 1}]\n",
    "\n",
    "# Define the bounds for the optimization\n",
    "bounds = [(0, 1) for i in range(len(tickers))]\n",
    "\n",
    "# Perform the optimization to find the optimal portfolio weights\n",
    "result = minimize(objective_function, x0=[1/len(tickers) for i in range(len(tickers))], constraints=constraints, bounds=bounds)\n",
    "optimal_weights = result.x\n",
    "\n",
    "# Calculate the optimal portfolio return and risk\n",
    "optimal_return = np.dot(mu, optimal_weights)\n",
    "optimal_risk = np.sqrt(np.dot(optimal_weights.T, np.dot(sigma, optimal_weights)))\n",
    "\n",
    "# Plot the efficient frontier\n",
    "plt.scatter(portfolio_risks, portfolio_returns, alpha=0.3)\n",
    "plt.scatter(optimal_risk, optimal_return, marker=\"*\", color=\"r\", s=500)\n",
    "plt.title(\"Efficient Frontier for Indian Stocks\")\n",
    "plt.xlabel(\"Risk (Standard Deviation)\")\n",
    "plt.ylabel(\"Return\")\n",
    "plt.show()\n"
   ]
  },
  {
   "cell_type": "code",
   "execution_count": null,
   "id": "1ccc369f",
   "metadata": {},
   "outputs": [],
   "source": []
  },
  {
   "cell_type": "code",
   "execution_count": null,
   "id": "3e28ff21",
   "metadata": {},
   "outputs": [],
   "source": []
  }
 ],
 "metadata": {
  "kernelspec": {
   "display_name": "Python 3 (ipykernel)",
   "language": "python",
   "name": "python3"
  },
  "language_info": {
   "codemirror_mode": {
    "name": "ipython",
    "version": 3
   },
   "file_extension": ".py",
   "mimetype": "text/x-python",
   "name": "python",
   "nbconvert_exporter": "python",
   "pygments_lexer": "ipython3",
   "version": "3.10.6"
  }
 },
 "nbformat": 4,
 "nbformat_minor": 5
}
